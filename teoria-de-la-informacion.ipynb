{
 "cells": [
  {
   "cell_type": "markdown",
   "metadata": {},
   "source": [
    "# Teoria de la informacion\n",
    "\n"
   ]
  },
  {
   "cell_type": "code",
   "execution_count": 158,
   "metadata": {},
   "outputs": [],
   "source": [
    "import numpy as np\n",
    "import scipy as sp\n",
    "from scipy.special import xlogy\n",
    "import matplotlib.pyplot as plt\n",
    "%matplotlib inline"
   ]
  },
  {
   "cell_type": "markdown",
   "metadata": {},
   "source": [
    "## Distribuciones de probabilidad"
   ]
  },
  {
   "cell_type": "markdown",
   "metadata": {},
   "source": [
    "### Distribucion de Bernoulli\n",
    "\n",
    "Sea X una variable aleatoria tal que los posibles valores que puede adoptar son X={1, 0}, se dice que X tiene una distribucion de Bernoulli. Esta distribucion depende de un parametro 'p' y se define como:\n",
    "\n",
    "$$\n",
    "P(x; p) = \\left\\{\n",
    "        \\begin{array}{ll}\n",
    "            p & \\quad x = 1 \\\\\n",
    "            1-p & \\quad x = 0\n",
    "        \\end{array}\n",
    "    \\right.\n",
    "$$\n",
    "\n",
    "O bien, en la siguiente forma:\n",
    "\n",
    "$$\n",
    "    P(x; p) = p^x(1-p)^{1-x}\n",
    "$$"
   ]
  },
  {
   "cell_type": "code",
   "execution_count": 49,
   "metadata": {},
   "outputs": [],
   "source": [
    "# Definicion de la ditribucion de Bernoulli\n",
    "def bernoulli(x, p):\n",
    "    return p**x * (1-p)**(1-x)"
   ]
  },
  {
   "cell_type": "code",
   "execution_count": 150,
   "metadata": {},
   "outputs": [],
   "source": [
    "# Obtener la distribucion de Bernoulli con los\n",
    "# siguientes parametros:\n",
    "p = 0.5\n",
    "X = np.array([0, 1])\n",
    "pX = bernoulli(X, p)"
   ]
  },
  {
   "cell_type": "code",
   "execution_count": 151,
   "metadata": {},
   "outputs": [
    {
     "name": "stdout",
     "output_type": "stream",
     "text": [
      "Parametro:\n",
      "p = 0.5\n",
      "\n",
      "Probabilidades:\n",
      "P(X=0) = 0.5\n",
      "P(X=1) = 0.5\n"
     ]
    }
   ],
   "source": [
    "print('Parametro:')\n",
    "print('p = {}'.format(p))\n",
    "print('\\nProbabilidades:')\n",
    "print('P(X=0) = {}\\nP(X=1) = {}'.format(pX[0], pX[1]))"
   ]
  },
  {
   "cell_type": "code",
   "execution_count": 152,
   "metadata": {},
   "outputs": [
    {
     "data": {
      "image/png": "[encoded data removed]",
      "text/plain": [
       "<Figure size 432x288 with 1 Axes>"
      ]
     },
     "metadata": {
      "needs_background": "light"
     },
     "output_type": "display_data"
    }
   ],
   "source": [
    "plt.figure()\n",
    "plt.title('Distribucion de Bernoulli')\n",
    "plt.scatter(X, pX)\n",
    "plt.xlabel('X')\n",
    "plt.ylabel('P(X=x)')\n",
    "plt.grid(True)\n",
    "plt.show()"
   ]
  },
  {
   "cell_type": "markdown",
   "metadata": {},
   "source": [
    "### Informacion\n",
    "En el contexto de las ciencias de la computacion, se puede pensar en la informacion como la cantidad de bits necesarios para codificar un mensaje que se va a transmitir. La ecuacion matematica que define la informacion de una variable aleatoria X esta dada por:\n",
    "\n",
    "$$ I(X) = log_2(X) $$\n",
    "\n",
    "De esta forma, suponiendo que queremos saber la cantidad de informacion para codificar el evento que consite en calcular la probabilidad de obtener una de las 8 caras de un dado es:\n",
    "\n",
    "$$log_2(8) = 3$$"
   ]
  },
  {
   "cell_type": "markdown",
   "metadata": {},
   "source": [
    "### Entropia\n",
    "\n",
    "Se puede definir a la entropia como:\n",
    "\n",
    "- Cantidad de informacion en promedio que contiene una variable aleatoria\n",
    "- Cantidad de incertidumbre en promedio de una variable aleatoria\n",
    "\n",
    "Para obtener la entropia de una v.a X~p(X) descrita por una distribucion de probabilidad, se calcula el valor esperado de esa variable con signo negativo.\n",
    "\n",
    "$$ H(X) = -E[I(X)] $$\n",
    "$$ H(X) = -E[log_2(X)] $$\n",
    "$$ H(X) = -\\sum_x p(x)log_2(p(x)) $$\n",
    "\n",
    "Tambien se puede expresar como:\n",
    "\n",
    "$$ H(X) = \\sum_x p(x)log_2(\\frac{1}{p(x)}) $$"
   ]
  },
  {
   "cell_type": "markdown",
   "metadata": {},
   "source": [
    "Como ejemplo, calcularemos la entropia de la distribucion de Bernoulli para distintos valores del parámetro __p__."
   ]
  },
  {
   "cell_type": "code",
   "execution_count": 167,
   "metadata": {},
   "outputs": [],
   "source": [
    "p_vect = np.linspace(0, 1, 50)\n",
    "h_bernoulli = []\n",
    "hX = 0\n",
    "\n",
    "for p in p_vect:\n",
    "    hX = -np.sum(xlogy(bernoulli(X, p), bernoulli(X, p)))\n",
    "    h_bernoulli.append(hX)\n",
    "\n",
    "h_bernoulli = np.array(h_bernoulli) "
   ]
  },
  {
   "cell_type": "markdown",
   "metadata": {},
   "source": [
    "Como se puede observar en la siguiente grafica, la entropia en la distribucion de Bernoulli es maxima cuando el parametro p=0.5. Esto se debe a que la incertidumbre entre decidir que evento es mas probable de ocurrir entre X=0 y X=1 es la misma (50% de probabilidad en ambos casos)."
   ]
  },
  {
   "cell_type": "code",
   "execution_count": 168,
   "metadata": {},
   "outputs": [
    {
     "data": {
      "image/png": "[encoded data removed]",
      "text/plain": [
       "<Figure size 432x288 with 1 Axes>"
      ]
     },
     "metadata": {
      "needs_background": "light"
     },
     "output_type": "display_data"
    }
   ],
   "source": [
    "plt.figure()\n",
    "plt.title('Entropia de la distribucion de Bernoulli')\n",
    "plt.plot(p_vect, h_bernoulli)\n",
    "plt.xlabel('p')\n",
    "plt.ylabel('H(p)')\n",
    "plt.grid(True)\n",
    "plt.show()"
   ]
  }
 ],
 "metadata": {
  "kernelspec": {
   "display_name": "Python 3",
   "language": "python",
   "name": "python3"
  },
  "language_info": {
   "codemirror_mode": {
    "name": "ipython",
    "version": 3
   },
   "file_extension": ".py",
   "mimetype": "text/x-python",
   "name": "python",
   "nbconvert_exporter": "python",
   "pygments_lexer": "ipython3",
   "version": "3.7.1"
  }
 },
 "nbformat": 4,
 "nbformat_minor": 2
}
